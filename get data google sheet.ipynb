{
 "cells": [
  {
   "cell_type": "code",
   "execution_count": 1,
   "metadata": {},
   "outputs": [],
   "source": [
    "import gspread\n",
    "from google.oauth2.service_account import Credentials\n"
   ]
  },
  {
   "cell_type": "code",
   "execution_count": 3,
   "metadata": {},
   "outputs": [
    {
     "ename": "TypeError",
     "evalue": "'Worksheet' object is not callable",
     "output_type": "error",
     "traceback": [
      "\u001b[1;31m---------------------------------------------------------------------------\u001b[0m",
      "\u001b[1;31mTypeError\u001b[0m                                 Traceback (most recent call last)",
      "Cell \u001b[1;32mIn[3], line 2\u001b[0m\n\u001b[0;32m      1\u001b[0m gc \u001b[38;5;241m=\u001b[39m gspread\u001b[38;5;241m.\u001b[39mservice_account(filename\u001b[38;5;241m=\u001b[39m\u001b[38;5;124m\"\u001b[39m\u001b[38;5;124mD:/agung/OneDrive - db/pribari/bimbingin_dong/assignment/assignment_day_12/airflow/dags/google_secret.json\u001b[39m\u001b[38;5;124m\"\u001b[39m)\n\u001b[1;32m----> 2\u001b[0m sh \u001b[38;5;241m=\u001b[39m \u001b[43mgc\u001b[49m\u001b[38;5;241;43m.\u001b[39;49m\u001b[43mopen_by_key\u001b[49m\u001b[43m(\u001b[49m\u001b[38;5;124;43m\"\u001b[39;49m\u001b[38;5;124;43m1CDqjVawY8aKLQD6ycQoQ6mUQ4TSbdrO5lh6MuxdaLhQ\u001b[39;49m\u001b[38;5;124;43m\"\u001b[39;49m\u001b[43m)\u001b[49m\u001b[38;5;241;43m.\u001b[39;49m\u001b[43msheet1\u001b[49m\u001b[43m(\u001b[49m\u001b[43m)\u001b[49m\n\u001b[0;32m      3\u001b[0m sh\n",
      "\u001b[1;31mTypeError\u001b[0m: 'Worksheet' object is not callable"
     ]
    }
   ],
   "source": [
    "gc = gspread.service_account(filename=\"D:/agung/OneDrive - db/pribari/bimbingin_dong/assignment/assignment_day_12/airflow/dags/google_secret.json\")\n",
    "sh = gc.open_by_key(\"1CDqjVawY8aKLQD6ycQoQ6mUQ4TSbdrO5lh6MuxdaLhQ\").sheet1()\n",
    "sh"
   ]
  },
  {
   "cell_type": "code",
   "execution_count": 15,
   "metadata": {},
   "outputs": [
    {
     "data": {
      "text/plain": [
       "{'spreadsheetId': '1CDqjVawY8aKLQD6ycQoQ6mUQ4TSbdrO5lh6MuxdaLhQ',\n",
       " 'tableRange': 'Production!A1:N1',\n",
       " 'updates': {'spreadsheetId': '1CDqjVawY8aKLQD6ycQoQ6mUQ4TSbdrO5lh6MuxdaLhQ',\n",
       "  'updatedRange': 'Production!A2',\n",
       "  'updatedRows': 1,\n",
       "  'updatedColumns': 1,\n",
       "  'updatedCells': 1}}"
      ]
     },
     "execution_count": 15,
     "metadata": {},
     "output_type": "execute_result"
    }
   ],
   "source": [
    "sh.append_row([''])"
   ]
  },
  {
   "cell_type": "code",
   "execution_count": null,
   "metadata": {},
   "outputs": [],
   "source": [
    "def etl_to_gspread():\n",
    "\n",
    "    # Path to the JSON credentials file\n",
    "    json_credentials_file = 'google_secret.json'\n",
    "\n",
    "    # Google Sheets authentication parameters\n",
    "    spreadsheet_id = '1CDqjVawY8aKLQD6ycQoQ6mUQ4TSbdrO5lh6MuxdaLhQ'\n",
    "\n",
    "    # Authenticate with Google Sheets and open the spreadsheet\n",
    "    gc = gspread.service_account(filename=json_credentials_file)\n",
    "    sh = gc.open_by_key(spreadsheet_id).sheet1()\n",
    "\n",
    "    #add value in specific sheet \n",
    "    sh.append_row([''])\n",
    "\n",
    "dag = DAG(\n",
    "    dag_id = 'chinook_etl',\n",
    "    schedule_interval='0 2 * * *',  # At 02:00 WIB every day\n",
    "    start_date=datetime(2024, 2, 23),\n",
    "    catchup=False\n",
    ")\n",
    "\n",
    "# Task to load database\n",
    "load_to_postgres = PostgresOperator(\n",
    "    task_id='load_to_postgres',\n",
    "    postgres_conn_id='chinook',\n",
    "    sql=\"\"\"\n",
    "    SELECT \n",
    "    *,\n",
    "    'Wisnu' as Student Name \n",
    "    FROM tracks\n",
    "    \"\"\",\n",
    "    dag=dag\n",
    ")\n",
    "\n",
    "# Task to extract data from PostgreSQL and load to Google Sheets\n",
    "etl_to_gspread_task = PythonOperator(\n",
    "    task_id='etl_to_gspread',\n",
    "    python_callable=etl_to_gspread,\n",
    "    dag=dag\n",
    ")\n",
    "\n",
    "# Set dependencies\n",
    "load_to_postgres >> etl_to_gspread_task"
   ]
  }
 ],
 "metadata": {
  "kernelspec": {
   "display_name": "Python 3",
   "language": "python",
   "name": "python3"
  },
  "language_info": {
   "codemirror_mode": {
    "name": "ipython",
    "version": 3
   },
   "file_extension": ".py",
   "mimetype": "text/x-python",
   "name": "python",
   "nbconvert_exporter": "python",
   "pygments_lexer": "ipython3",
   "version": "3.11.8"
  }
 },
 "nbformat": 4,
 "nbformat_minor": 2
}
